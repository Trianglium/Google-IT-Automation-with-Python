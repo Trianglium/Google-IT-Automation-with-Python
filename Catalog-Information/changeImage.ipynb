{
 "cells": [
  {
   "cell_type": "code",
   "execution_count": null,
   "metadata": {},
   "outputs": [],
   "source": [
    "#!/usr/bin/env python3\n",
    "from PIL import Image\n",
    "import os\n",
    "\n",
    "# Image size requested\n",
    "size = (600,400)\n",
    "\n",
    "# Path to image data\n",
    "path = 'supplier-data/images/'\n",
    "\n",
    "# Converting to requested file format and size\n",
    "for media in os.listdir(path):\n",
    "    if \"tiff\" in media:\n",
    "        item_id = os.path.splitext(media)[0]\n",
    "        im = Image.open(path + media)\n",
    "        im.resize(size).convert(\"RGB\").save(path + item_id + \".jpeg\", \"JPEG\")\n",
    "        im.close()"
   ]
  }
 ],
 "metadata": {
  "kernelspec": {
   "display_name": "Python 3",
   "language": "python",
   "name": "python3"
  },
  "language_info": {
   "codemirror_mode": {
    "name": "ipython",
    "version": 3
   },
   "file_extension": ".py",
   "mimetype": "text/x-python",
   "name": "python",
   "nbconvert_exporter": "python",
   "pygments_lexer": "ipython3",
   "version": "3.8.5"
  }
 },
 "nbformat": 4,
 "nbformat_minor": 4
}
