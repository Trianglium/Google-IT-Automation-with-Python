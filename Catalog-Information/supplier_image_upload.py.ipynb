{
 "cells": [
  {
   "cell_type": "code",
   "execution_count": null,
   "metadata": {},
   "outputs": [],
   "source": [
    "#!/usr/bin/env python3\n",
    "import requests\n",
    "import os, sys \n",
    "\n",
    "url = 'http://'+'[external IP Address]'+'/upload/'\n",
    "path = \"supplier-data/images/\"\n",
    "album = os.listdir(path)\n",
    "for image in album:\n",
    "    if image.endswith(\".jpeg\"):\n",
    "        with open(path+image, 'rb') as opened:\n",
    "            upload = requests.post(url, files={'file':opened})"
   ]
  },
  {
   "cell_type": "code",
   "execution_count": null,
   "metadata": {},
   "outputs": [],
   "source": []
  }
 ],
 "metadata": {
  "kernelspec": {
   "display_name": "Python 3",
   "language": "python",
   "name": "python3"
  },
  "language_info": {
   "codemirror_mode": {
    "name": "ipython",
    "version": 3
   },
   "file_extension": ".py",
   "mimetype": "text/x-python",
   "name": "python",
   "nbconvert_exporter": "python",
   "pygments_lexer": "ipython3",
   "version": "3.8.5"
  }
 },
 "nbformat": 4,
 "nbformat_minor": 4
}
