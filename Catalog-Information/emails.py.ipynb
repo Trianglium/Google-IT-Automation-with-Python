{
 "cells": [
  {
   "cell_type": "code",
   "execution_count": null,
   "metadata": {},
   "outputs": [],
   "source": [
    "#!/usr/bin/env python3\n",
    "\n",
    "import email.message\n",
    "import mimetypes\n",
    "import os.path\n",
    "import smtplib\n",
    "import os\n",
    "\n",
    "def generate_email(sender, recipient, subject, body, attachment_path):\n",
    "    \"\"\"Creates an email with an attachement.\"\"\"\n",
    "    # Basic Email formatting\n",
    "    message = email.message.EmailMessage()\n",
    "    message[\"From\"] = sender\n",
    "    message[\"To\"] = recipient\n",
    "    message[\"Subject\"] = subject\n",
    "    message.set_content(body)\n",
    "\n",
    "    # Process the attachment and add it to the email\n",
    "    attachment_filename = os.path.basename(attachment_path)\n",
    "    mime_type, _ = mimetypes.guess_type(attachment_path)\n",
    "    mime_type, mime_subtype = mime_type.split('/', 1)\n",
    "\n",
    "    with open(attachment_path, 'rb') as ap:\n",
    "        message.add_attachment(ap.read(), maintype=mime_type,subtype=mime_subtype,filename=attachment_filename)\n",
    "\n",
    "    return message\n",
    "\n",
    "def generate_error_report(subject):\n",
    "    \"\"\"Creates an email without an attachement.\"\"\"\n",
    "    # Basic Email formatting\n",
    "    message = email.message.EmailMessage()\n",
    "    message[\"From\"] = \"automation@example.com\"\n",
    "    message[\"To\"] = \"{}@example.com\".format(os.environ.get('USER'))\n",
    "    message[\"Subject\"] = subject\n",
    "    message.set_content(\"Please check your system and resolve the issue as soon as possible.\")\n",
    "    return send_email(message)\n",
    "\n",
    "def send_email(message):\n",
    "    \"\"\"Sends the message to the configured SMTP server.\"\"\"\n",
    "    mail_server = smtplib.SMTP('localhost')\n",
    "    mail_server.send_message(message)\n",
    "    mail_server.quit()"
   ]
  }
 ],
 "metadata": {
  "kernelspec": {
   "display_name": "Python 3",
   "language": "python",
   "name": "python3"
  },
  "language_info": {
   "codemirror_mode": {
    "name": "ipython",
    "version": 3
   },
   "file_extension": ".py",
   "mimetype": "text/x-python",
   "name": "python",
   "nbconvert_exporter": "python",
   "pygments_lexer": "ipython3",
   "version": "3.8.5"
  }
 },
 "nbformat": 4,
 "nbformat_minor": 4
}
