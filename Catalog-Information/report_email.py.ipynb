{
 "cells": [
  {
   "cell_type": "code",
   "execution_count": null,
   "metadata": {},
   "outputs": [],
   "source": [
    "#!/usr/bin/env python3\n",
    "import datetime\n",
    "import os\n",
    "import reports\n",
    "import emails\n",
    "\n",
    "#Text Data directory \n",
    "path = \"supplier-data/descriptions/\"\n",
    "\n",
    "# Get Today's Date (August 11, 2021)\n",
    "todays_date = datetime.datetime.now().strftime('%B %d, %Y')\n",
    "\n",
    "#The attachment \n",
    "processed = \"/tmp/processed.pdf\"\n",
    "\n",
    "\n",
    "\n",
    "#process and format the text data so that it is PDF-ready\n",
    "def process_data(path=path):\n",
    "    datafiles = os.listdir(path)\n",
    "    fruit_data = \"\"\n",
    "    for data in datafiles:\n",
    "        with open(str(path+data), 'r') as f:\n",
    "            entry = f.read().split('\\n')\n",
    "            fruit_data += \"name: {} {}weight: {}{}\".format(entry[0], \"<br/>\", entry[1], \"<br/><br/>\")\n",
    "            \n",
    "    return fruit_data\n",
    "\n",
    "# Define the Main Method & call everything else\n",
    "if __name__ == \"__main__\":\n",
    "    # Generate the PDF report with the proper attachment, title, and bod.\n",
    "    reports.generate_report(processed, str(\"Processed Update on \" + todays_date +\"\\n\"), process_data(path))\n",
    "    \n",
    "    # Update Email params and send \n",
    "    sender = \"automation@example.com\"\n",
    "    receiver = \"{}@example.com\".format(os.environ.get('USER'))\n",
    "    subject = \"Upload Completed - Online Fruit Store\"\n",
    "    body = \"All fruits are uploaded to our website successfully. A detailed list is attached to this email.\"\n",
    "    \n",
    "    message = emails.generate_email(sender, receiver, subject, body, attachment_path=\"/tmp/processed.pdf\")\n",
    "    emails.send_email(message)"
   ]
  },
  {
   "cell_type": "code",
   "execution_count": null,
   "metadata": {},
   "outputs": [],
   "source": []
  },
  {
   "cell_type": "code",
   "execution_count": null,
   "metadata": {},
   "outputs": [],
   "source": []
  },
  {
   "cell_type": "code",
   "execution_count": null,
   "metadata": {},
   "outputs": [],
   "source": []
  }
 ],
 "metadata": {
  "kernelspec": {
   "display_name": "Python 3",
   "language": "python",
   "name": "python3"
  },
  "language_info": {
   "codemirror_mode": {
    "name": "ipython",
    "version": 3
   },
   "file_extension": ".py",
   "mimetype": "text/x-python",
   "name": "python",
   "nbconvert_exporter": "python",
   "pygments_lexer": "ipython3",
   "version": "3.8.5"
  }
 },
 "nbformat": 4,
 "nbformat_minor": 4
}
